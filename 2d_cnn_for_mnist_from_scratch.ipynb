{
 "cells": [
  {
   "cell_type": "markdown",
   "metadata": {},
   "source": [
    "# 2D CNN for MNIST digit recognition from scratch"
   ]
  },
  {
   "cell_type": "markdown",
   "metadata": {},
   "source": [
    "<img src=\"images/mnist_sample.png\" style=\"width:30%\">"
   ]
  },
  {
   "cell_type": "code",
   "execution_count": 1,
   "metadata": {},
   "outputs": [
    {
     "name": "stdout",
     "output_type": "stream",
     "text": [
      "We're using TF 1.13.1\n",
      "We're using Python 3.7.3 (default, Mar 27 2019, 17:13:21) [MSC v.1915 64 bit (AMD64)]\n"
     ]
    }
   ],
   "source": [
    "%matplotlib inline\n",
    "from matplotlib import pyplot as plt\n",
    "import tensorflow as tf  # !pip install tensorflow\n",
    "import numpy as np\n",
    "import warnings\n",
    "import sys\n",
    "from PIL import Image\n",
    "\n",
    "warnings.filterwarnings('ignore')  ## Never print matching warnings\n",
    "\n",
    "tf.logging.set_verbosity(tf.logging.ERROR)  ## Control logging by filtering out ERROR logs\n",
    "\n",
    "print(\"We're using TF\", tf.__version__)\n",
    "print(\"We're using Python\", sys.version)"
   ]
  },
  {
   "cell_type": "markdown",
   "metadata": {},
   "source": [
    "# Looking at the data\n",
    "\n",
    "In this task we have 55000 28x28 images of digits from 0 to 9.\n",
    "We will train a classifier on this data."
   ]
  },
  {
   "cell_type": "code",
   "execution_count": 2,
   "metadata": {
    "scrolled": true
   },
   "outputs": [
    {
     "name": "stdout",
     "output_type": "stream",
     "text": [
      "Extracting MNIST_data\\train-images-idx3-ubyte.gz\n",
      "Extracting MNIST_data\\train-labels-idx1-ubyte.gz\n",
      "Extracting MNIST_data\\t10k-images-idx3-ubyte.gz\n",
      "Extracting MNIST_data\\t10k-labels-idx1-ubyte.gz\n"
     ]
    }
   ],
   "source": [
    "from tensorflow.examples.tutorials.mnist import input_data\n",
    "mnist = input_data.read_data_sets('MNIST_data', one_hot=True)\n",
    "\n",
    "X_train = mnist.train.images  ## numpy array of shape (55000, 784) i.e pixels pixels [0,1.0]\n",
    "y_train = mnist.train.labels  ## numpy array of shape (55000, 10) i.e. one-hot encoded labels\n",
    "# one-hot coding have 1 at corresponding position and zeros else\n",
    "# examples:\n",
    "#  0 is (1, 0, 0, 0, 0, 0, 0, 0, 0, 0,)\n",
    "#  1 is (0, 1, 0, 0, 0, 0, 0, 0, 0, 0,)\n",
    "#  2 is (0, 0, 1, 0, 0, 0, 0, 0, 0, 0,)\n",
    "# ...\n",
    "#  9 is (0, 0, 0, 0, 0, 0, 0, 0, 0, 1,)\n",
    "\n",
    "X_test = mnist.test.images\n",
    "y_test = mnist.test.labels"
   ]
  },
  {
   "cell_type": "code",
   "execution_count": 3,
   "metadata": {
    "scrolled": true
   },
   "outputs": [
    {
     "name": "stdout",
     "output_type": "stream",
     "text": [
      "X_train [shape (55000, 784)]  whole sample:\n"
     ]
    },
    {
     "data": {
      "image/png": "[encoded data removed]",
      "text/plain": [
       "<Figure size 432x288 with 1 Axes>"
      ]
     },
     "metadata": {
      "needs_background": "light"
     },
     "output_type": "display_data"
    },
    {
     "name": "stdout",
     "output_type": "stream",
     "text": [
      "y_train [shape (55000, 10)] 1 samples:\n",
      " [0. 0. 0. 1. 0. 0. 0. 0. 0. 0.]\n"
     ]
    }
   ],
   "source": [
    "# Images are already flattened which means that our linear model implementation now is simplified\n",
    "print(\"X_train [shape %s]  whole sample:\" % (str(X_train.shape)))\n",
    "def show_img(sample):\n",
    "    pixels = np.array(sample, dtype = 'float32')\n",
    "    pixels = pixels.reshape((28,28))\n",
    "    plt.imshow(pixels)\n",
    "    plt.show()\n",
    "show_img(X_train[1, :])\n",
    "print(\"y_train [shape %s] 1 samples:\\n\" % (str(y_train.shape)), y_train[1])"
   ]
  },
  {
   "cell_type": "markdown",
   "metadata": {},
   "source": [
    "# Logistic regression with 2D CNN\n",
    "\n",
    "Here we will train a linear classifier $\\vec{x} \\rightarrow y$ with SGD using low-level TensorFlow.\n",
    "\n",
    "First, we need to calculate a logit (a linear transformation) $z_k$ for each class: \n",
    "$$z_k = \\vec{x} \\cdot \\vec{w_k} + b_k \\quad k = 0..9$$\n",
    "```python\n",
    "logits = X @ W1 + b1  ### logits for input_X, resulting shape should be [input_X.shape[0], 256]\n",
    "```\n",
    "Then, we transform these logits $z_k$ to a valid probabilities $p_k$ with softmax: \n",
    "$$p_k = \\frac{e^{z_k}}{\\sum_{i=0}^{9}{e^{z_i}}} \\quad k = 0..9$$\n",
    "```python\n",
    "def softmax(z):  ## this approach provides numerical stability\n",
    "    \"\"\"Compute softmax values for each sets of scores in z.\"\"\"\n",
    "    e = tf.exp(z - tf.reduce_max(z))\n",
    "    return e / tf.reduce_sum(e)\n",
    "```\n",
    "In order to avoid numerical overflow we use numerically stable sigmoid function:\n",
    "$$p_k=\\frac{1}{1+e^{-z_k}}=\\frac{e^{z_k}}{1 + e^{z_k}} \\quad k = 0..9$$\n",
    "where the distributions $[z_k,0]$ and $[0,−z_k]$ are equivalent.\n",
    "```python\n",
    "def sigmoid(z):\n",
    "    \"\"\"Numerically stable sigmoid function.\"\"\"\n",
    "    # if z is less than zero then z will be small, denom can't be\n",
    "    # zero because it's 1+z.\n",
    "    return tf.where(z >= 0, 1 / (1 + tf.exp(-z)), tf.exp(z) / (1 + tf.exp(z))) \n",
    "```\n",
    "\n",
    "Finally, We use a cross-entropy loss to train our multi-class classifier:\n",
    "$$\\text{cross-entropy}(y, p) = -\\sum_{k=0}^{9}{\\log(p_k)[y = k]}$$ \n",
    "\n",
    "where \n",
    "$$\n",
    "[x]=\\begin{cases}\n",
    "       1, \\quad \\text{if $x$ is true} \\\\\n",
    "       0, \\quad \\text{otherwise}\n",
    "    \\end{cases}\n",
    "$$\n",
    "\n",
    "Cross-entropy minimization pushes $p_k$ close to 1 when $y = k$, which is what we want.\n",
    "```python\n",
    "# The loss should be a scalar number: average loss over all the objects with tf.reduce_mean().\n",
    "cost = tf.reduce_mean(-tf.reduce_sum(y * tf.log(softmax(y_pred)), reduction_indices=[1]))\n",
    "```\n",
    "Here's our plan:\n",
    "* We use a matrix placeholder for flattened `X_train` (28x28 = 784)\n",
    "* Convert `y_train` to one-hot (already done) encoded vectors that are needed for cross-entropy\n",
    "* We use a shared variable `W` for all weights (a column $\\vec{w_k}$ per class) and `b` for all biases.\n",
    "* Our aim is: $\\text{test accuracy} \\geq 0.95$"
   ]
  },
  {
   "cell_type": "code",
   "execution_count": 4,
   "metadata": {},
   "outputs": [],
   "source": [
    "# Placeholders for the input data\n",
    "# first shape is None means that the batch size will be specified at runtime\n",
    "X = tf.placeholder(tf.float32, shape=(None, 784), name='X')\n",
    "y = tf.placeholder(tf.float32, shape=(None, 10), name='y')"
   ]
  },
  {
   "cell_type": "code",
   "execution_count": 5,
   "metadata": {},
   "outputs": [],
   "source": [
    "### Model parameters: W and b\n",
    "# The initializer Xavier Glorot and Yoshua Bengio (2010) is designed to keep the \n",
    "# Scale of the gradients roughly the same in all layers\n",
    "# Zeros_initializer is used for initializing the bias with zero\n",
    "\n",
    "\n",
    "# 1st hidden layer\n",
    "W1 = tf.get_variable(\"W1\", shape=(784, 256), dtype=tf.float32, initializer = tf.contrib.layers.xavier_initializer())\n",
    "b1 = tf.get_variable(\"b1\", shape=(256), dtype=tf.float32, initializer = tf.zeros_initializer)\n",
    "\n",
    "# 2nd hidden layer\n",
    "W2 = tf.get_variable(\"W2\", shape=(256, 10), dtype=tf.float32, initializer = tf.contrib.layers.xavier_initializer())\n",
    "b2 = tf.get_variable(\"b2\", shape=(10), dtype=tf.float32, initializer = tf.zeros_initializer)\n",
    "\n",
    "def sigmoid(z):\n",
    "    \"\"\"Numerically stable sigmoid function.\"\"\"\n",
    "    # if z is less than zero then z will be small, denom can't be\n",
    "    # zero because it's 1+z.\n",
    "    return tf.where(z >= 0, 1 / (1 + tf.exp(-z)), tf.exp(z) / (1 + tf.exp(z))) \n",
    "\n",
    "### Compute predictions\n",
    "logits = X @ W1 + b1  ### logits for input_X, resulting shape should be [input_X.shape[0], 256]\n",
    "probas = tf.nn.sigmoid(logits)  ### apply tf.nn.softmax to logits\n",
    "y_pred = probas @ W2 + b2  ### logits for probabilities, resulting shape should be [256, 10]\n",
    "\n",
    "def softmax(z):  ## this approach provides numerical stability\n",
    "    \"\"\"Compute softmax values for each sets of scores in z.\"\"\"\n",
    "    e = tf.exp(z - tf.reduce_max(z))\n",
    "    return e / tf.reduce_sum(e)\n",
    "\n",
    "### Cross-Entropy loss \n",
    "# Hint: use tf.reduce_mean, tf.reduce_sum for reduction by specified axis\n",
    "# The loss should be a scalar number: average loss over all the objects with tf.reduce_mean().\n",
    "cost = tf.reduce_mean(-tf.reduce_sum(y * tf.log(softmax(y_pred)), reduction_indices=[1]))\n",
    "#tf.nn.softmax(y_pred)\n",
    "# We use a default tf.train.AdamOptimizer to get an SGD step\n",
    "lr = 0.01\n",
    "optimizer = tf.train.AdamOptimizer(lr)\n",
    "step = optimizer.minimize(cost)  ### optimizer step that minimizes the loss (cost)"
   ]
  },
  {
   "cell_type": "code",
   "execution_count": 6,
   "metadata": {},
   "outputs": [],
   "source": [
    "grads = tf.gradients(cost, tf.trainable_variables()) # take gradient of ALL TRAINABLES variables\n",
    "grad_list = list(zip(grads, tf.trainable_variables()))\n",
    "\n",
    "update = optimizer.apply_gradients(grads_and_vars=grad_list) # don't rename this op\n",
    "\n",
    "### Apply tf.argmax to find a class index with highest probability\n",
    "pred_classes = tf.argmax(y_pred, axis=1)  ## class index with highest probability for the predictions\n",
    "true_classes = tf.argmax(y, axis=1)  ## class index with highest probability for the true outcome\n",
    "pred = tf.cast(tf.equal(pred_classes, true_classes), dtype=tf.float32)\n",
    "acc = tf.reduce_mean(pred) # don't rename this op"
   ]
  },
  {
   "cell_type": "markdown",
   "metadata": {},
   "source": [
    "## Training"
   ]
  },
  {
   "cell_type": "code",
   "execution_count": 7,
   "metadata": {
    "scrolled": true
   },
   "outputs": [
    {
     "name": "stdout",
     "output_type": "stream",
     "text": [
      "Test cost after 10 epochs: 6.3396\n",
      "Test cost after 30 epochs: 6.2765\n",
      "Test cost after 50 epochs: 6.2594\n",
      "Test cost after 70 epochs: 6.2546\n",
      "Test cost after 90 epochs: 6.2511\n",
      "Test cost after 110 epochs: 6.2466\n",
      "Test cost after 130 epochs: 6.2471\n",
      "\n",
      "OPTIMIZATION DONE!\n",
      "Score = 0.999800\n"
     ]
    }
   ],
   "source": [
    "# We use in this part only train data! and never use test data\n",
    "# We should split the data into mini-batches.\n",
    "\n",
    "# The smaller the batch the less accurate the estimate of the gradient will be. And limited by your GPU memory\n",
    "BATCH_SIZE = 512  ## Number of samples that will be propagated through the network\n",
    "EPOCHS= 140 # 1 Epoch is view of all elements in dataset 1 time\n",
    "BATCH_NUM = int(X_train.shape[0]/BATCH_SIZE)  # Here you loose the rest of batch you can add it\n",
    "\n",
    "# Add an Op to initialize global variables.\n",
    "init_op = tf.global_variables_initializer()\n",
    "sess = tf.Session()  ## Launch the graph in a session.\n",
    "sess.run(init_op)  ## # Run the Op that initializes global variables.\n",
    "\n",
    "for epoch in range(EPOCHS):  # we finish an epoch when we've looked at all training samples\n",
    "    err = 0\n",
    "    for batch in range(BATCH_NUM):\n",
    "        # extract a batch\n",
    "        batch_X = X_train[batch*BATCH_SIZE : batch*BATCH_SIZE + BATCH_SIZE]\n",
    "        batch_y = y_train[batch*BATCH_SIZE : batch*BATCH_SIZE + BATCH_SIZE]\n",
    "        \n",
    "        # a key operation. Run 'operations' and place data in placeholders 'X' and 'y'\n",
    "        _, c = sess.run([update, cost], feed_dict={X:batch_X, y:batch_y})\n",
    "        err += c\n",
    "    err /= BATCH_NUM\n",
    "    if epoch%20 == 9:\n",
    "            print(\"Test cost after %d epochs: %.4f\" %(epoch+1, err))\n",
    "    \n",
    "print(\"\\nOPTIMIZATION DONE!\")\n",
    "acc_train = sess.run([acc], feed_dict={X: X_train, y: y_train})\n",
    "print('Score = %f' %acc_train[0])"
   ]
  },
  {
   "cell_type": "markdown",
   "metadata": {},
   "source": [
    "Final output of accuracy is ~ 99.99%."
   ]
  },
  {
   "cell_type": "markdown",
   "metadata": {},
   "source": [
    "## Testing"
   ]
  },
  {
   "cell_type": "code",
   "execution_count": 36,
   "metadata": {},
   "outputs": [],
   "source": [
    "img = np.invert(Image.open(\"images/test_img.png\").convert('L')).ravel()"
   ]
  },
  {
   "cell_type": "code",
   "execution_count": 61,
   "metadata": {
    "scrolled": false
   },
   "outputs": [
    {
     "name": "stdout",
     "output_type": "stream",
     "text": [
      "Prediction for test image: 2\n"
     ]
    }
   ],
   "source": [
    "prediction = sess.run(tf.argmax(y_pred, 1), feed_dict={X: [img]})\n",
    "print (\"Prediction for test image:\", np.squeeze(prediction))"
   ]
  }
 ],
 "metadata": {
  "kernelspec": {
   "display_name": "Python 3",
   "language": "python",
   "name": "python3"
  },
  "language_info": {
   "codemirror_mode": {
    "name": "ipython",
    "version": 3
   },
   "file_extension": ".py",
   "mimetype": "text/x-python",
   "name": "python",
   "nbconvert_exporter": "python",
   "pygments_lexer": "ipython3",
   "version": "3.7.3"
  }
 },
 "nbformat": 4,
 "nbformat_minor": 2
}
